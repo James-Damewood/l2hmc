{
 "cells": [
  {
   "cell_type": "code",
   "execution_count": 1,
   "metadata": {},
   "outputs": [],
   "source": [
    "%matplotlib inline\n",
    "%reload_ext autoreload\n",
    "%autoreload 2\n",
    "\n",
    "import sys  \n",
    "sys.path.append(\"../l2hmc\")\n",
    "sys.path.append(\"../l2hmc/utils\")\n",
    "\n",
    "import tensorflow as tf\n",
    "import numpy as np\n",
    "import matplotlib\n",
    "import matplotlib.pyplot as plt\n",
    "from utils.distributions import random_tilted_gaussian, Gaussian, GMM, RoughWell\n",
    "\n",
    "import seaborn as sns\n",
    "sns.set_palette(\"muted\")"
   ]
  },
  {
   "cell_type": "code",
   "execution_count": 2,
   "metadata": {},
   "outputs": [],
   "source": [
    "from utils.func_utils import accept, jacobian, autocovariance, get_log_likelihood, \\\n",
    "    get_data, binarize, normal_kl, acl_spectrum, ESS\n",
    "from utils.distributions import Gaussian, GMM, GaussianFunnel, gen_ring\n",
    "from utils.layers import Linear, Sequential, Zip, Parallel, ScaleTanh\n",
    "from utils.dynamics import Dynamics\n",
    "from utils.sampler import propose\n",
    "from utils.notebook_utils import get_hmc_samples, plot_gaussian_contours"
   ]
  },
  {
   "cell_type": "code",
   "execution_count": 3,
   "metadata": {},
   "outputs": [],
   "source": [
    "# Color definition for plots\n",
    "c_l2hmc, c_hmc1, c_hmc2, c_hmc3 = 'blue', 'orange', 'green', 'red'\n",
    "c_true, c_contour = 'purple', '0.75'"
   ]
  },
  {
   "cell_type": "markdown",
   "metadata": {},
   "source": [
    "---\n",
    "# Network architecture"
   ]
  },
  {
   "cell_type": "code",
   "execution_count": 4,
   "metadata": {},
   "outputs": [],
   "source": [
    "def network(x_dim, scope, factor):\n",
    "    with tf.variable_scope(scope):\n",
    "        net = Sequential([\n",
    "            Zip([\n",
    "                Linear(x_dim, 100, scope='embed_1', factor=1.0 / 3),\n",
    "                Linear(x_dim, 100, scope='embed_2', factor=factor * 1.0 / 3),\n",
    "                Linear(2, 100, scope='embed_3', factor=1.0 / 3),\n",
    "                lambda _: 0.,\n",
    "            ]),\n",
    "            sum,\n",
    "            tf.nn.relu,\n",
    "            Linear(100, 100, scope='linear_1'),\n",
    "            tf.nn.relu,\n",
    "            Parallel([\n",
    "                Sequential([\n",
    "                    Linear(100, x_dim, scope='linear_s', factor=0.001), \n",
    "                    ScaleTanh(x_dim, scope='scale_s')\n",
    "                ]),\n",
    "                Linear(100, x_dim, scope='linear_t', factor=0.001),\n",
    "                Sequential([\n",
    "                    Linear(100, x_dim, scope='linear_f', factor=0.001),\n",
    "                    ScaleTanh(x_dim, scope='scale_f'),\n",
    "                ])\n",
    "            ])  \n",
    "        ])\n",
    "        \n",
    "    return net"
   ]
  },
  {
   "cell_type": "markdown",
   "metadata": {},
   "source": [
    "\n",
    "---\n",
    "# Ill-Conditioned Gaussian (ICG)\n",
    "\n",
    "## Defining the distribution"
   ]
  },
  {
   "cell_type": "code",
   "execution_count": 5,
   "metadata": {},
   "outputs": [
    {
     "name": "stdout",
     "output_type": "stream",
     "text": [
      "[1.00000000e+02 8.28642773e+01 6.86648845e+01 5.68986603e+01\n",
      " 4.71486636e+01 3.90693994e+01 3.23745754e+01 2.68269580e+01\n",
      " 2.22299648e+01 1.84206997e+01 1.52641797e+01 1.26485522e+01\n",
      " 1.04811313e+01 8.68511374e+00 7.19685673e+00 5.96362332e+00\n",
      " 4.94171336e+00 4.09491506e+00 3.39322177e+00 2.81176870e+00\n",
      " 2.32995181e+00 1.93069773e+00 1.59985872e+00 1.32571137e+00\n",
      " 1.09854114e+00 9.10298178e-01 7.54312006e-01 6.25055193e-01\n",
      " 5.17947468e-01 4.29193426e-01 3.55648031e-01 2.94705170e-01\n",
      " 2.44205309e-01 2.02358965e-01 1.67683294e-01 1.38949549e-01\n",
      " 1.15139540e-01 9.54095476e-02 7.90604321e-02 6.55128557e-02\n",
      " 5.42867544e-02 4.49843267e-02 3.72759372e-02 3.08884360e-02\n",
      " 2.55954792e-02 2.12095089e-02 1.75751062e-02 1.45634848e-02\n",
      " 1.20679264e-02 1.00000000e-02]\n",
      "1.0000000000000124 float64\n"
     ]
    }
   ],
   "source": [
    "x_dim = 50\n",
    "mu = np.zeros(x_dim,)\n",
    "cov = np.diag(np.logspace(2, -2, num=x_dim))\n",
    "# cov = np.array([[100, 0], [0, 0.01]])\n",
    "print(np.diag(cov))\n",
    "dist = Gaussian(mu, cov)\n",
    "# mu, cov = random_tilted_gaussian(x_dim)\n",
    "# print(cov)"
   ]
  },
  {
   "cell_type": "markdown",
   "metadata": {},
   "source": [
    "---\n",
    "## Training\n",
    "\n",
    "\n",
    "We set up the loss on both $p(\\xi)$ (here `x`) and $q(\\xi)$ (here `z`). We then train with Adam with a learning rate of $10^{-3}$."
   ]
  },
  {
   "cell_type": "code",
   "execution_count": 6,
   "metadata": {},
   "outputs": [],
   "source": [
    "# Leap frog integrator for Hamiltonian dynamics\n",
    "dynamics = Dynamics(x_dim, dist.get_energy_function(), T=10, eps=0.1, net_factory=network)\n",
    "\n",
    "# Losses on p(xi) and q(xi), respectively\n",
    "x = tf.placeholder(tf.float32, shape=(None, x_dim))\n",
    "z = tf.random_normal(tf.shape(x))\n",
    "Lx, _, px, output = propose(x, dynamics, do_mh_step=True)\n",
    "Lz, _, pz, _ = propose(z, dynamics, do_mh_step=False)\n",
    "\n",
    "# Squared jumped distance\n",
    "v1 = (tf.reduce_sum(tf.square(x - Lx), axis=1) * px) + 1e-4\n",
    "# v2 = (tf.reduce_sum(tf.square(z - Lz), axis=1) * pz) + 1e-4\n",
    "scale = 0.1\n",
    "\n",
    "# Update loss\n",
    "loss = 0.\n",
    "#loss += scale * (tf.reduce_mean(1.0 / v1) + tf.reduce_mean(1.0 / v2))\n",
    "#loss += (- tf.reduce_mean(v1) - tf.reduce_mean(v2)) / scale\n",
    "loss += scale * tf.reduce_mean(1.0 / v1)\n",
    "loss += -tf.reduce_mean(v1) / scale"
   ]
  },
  {
   "cell_type": "code",
   "execution_count": 7,
   "metadata": {},
   "outputs": [],
   "source": [
    "# Training parameters\n",
    "global_step = tf.Variable(0., name='global_step', trainable=False)\n",
    "learning_rate = tf.train.exponential_decay(1e-3, global_step, 1000, 0.96, staircase=True)\n",
    "optimizer = tf.train.AdamOptimizer(learning_rate=learning_rate)\n",
    "train_op = optimizer.minimize(loss, global_step=global_step)"
   ]
  },
  {
   "cell_type": "markdown",
   "metadata": {},
   "source": [
    "Training loop described in Algorithm 1 in the paper."
   ]
  },
  {
   "cell_type": "code",
   "execution_count": 8,
   "metadata": {},
   "outputs": [
    {
     "name": "stdout",
     "output_type": "stream",
     "text": [
      "Step: 0 / 5000, Loss: -5.91e+02, Acceptance sample: 0.89, LR: 0.00100\n",
      "Step: 100 / 5000, Loss: -7.80e+02, Acceptance sample: 0.43, LR: 0.00100\n",
      "Step: 200 / 5000, Loss: -6.87e+02, Acceptance sample: 0.33, LR: 0.00100\n",
      "Step: 300 / 5000, Loss: -1.22e+03, Acceptance sample: 0.33, LR: 0.00100\n",
      "Step: 400 / 5000, Loss: -1.43e+03, Acceptance sample: 0.28, LR: 0.00100\n",
      "Step: 500 / 5000, Loss: -1.45e+03, Acceptance sample: 0.29, LR: 0.00100\n",
      "Step: 600 / 5000, Loss: -1.40e+03, Acceptance sample: 0.29, LR: 0.00100\n",
      "Step: 700 / 5000, Loss: -1.57e+03, Acceptance sample: 0.26, LR: 0.00100\n",
      "Step: 800 / 5000, Loss: -1.50e+03, Acceptance sample: 0.30, LR: 0.00100\n",
      "Step: 900 / 5000, Loss: -1.59e+03, Acceptance sample: 0.29, LR: 0.00100\n",
      "Step: 1000 / 5000, Loss: -1.39e+03, Acceptance sample: 0.25, LR: 0.00096\n",
      "Step: 1100 / 5000, Loss: -1.59e+03, Acceptance sample: 0.28, LR: 0.00096\n",
      "Step: 1200 / 5000, Loss: -1.56e+03, Acceptance sample: 0.30, LR: 0.00096\n",
      "Step: 1300 / 5000, Loss: -1.51e+03, Acceptance sample: 0.29, LR: 0.00096\n",
      "Step: 1400 / 5000, Loss: -1.81e+03, Acceptance sample: 0.33, LR: 0.00096\n",
      "Step: 1500 / 5000, Loss: -1.96e+03, Acceptance sample: 0.45, LR: 0.00096\n",
      "Step: 1600 / 5000, Loss: -2.18e+03, Acceptance sample: 0.44, LR: 0.00096\n",
      "Step: 1700 / 5000, Loss: -3.62e+03, Acceptance sample: 0.61, LR: 0.00096\n",
      "Step: 1800 / 5000, Loss: -4.49e+03, Acceptance sample: 0.70, LR: 0.00096\n",
      "Step: 1900 / 5000, Loss: -5.12e+03, Acceptance sample: 0.71, LR: 0.00096\n",
      "Step: 2000 / 5000, Loss: -5.71e+03, Acceptance sample: 0.79, LR: 0.00092\n",
      "Step: 2100 / 5000, Loss: -5.63e+03, Acceptance sample: 0.77, LR: 0.00092\n",
      "Step: 2200 / 5000, Loss: -6.14e+03, Acceptance sample: 0.77, LR: 0.00092\n",
      "Step: 2300 / 5000, Loss: -6.09e+03, Acceptance sample: 0.80, LR: 0.00092\n",
      "Step: 2400 / 5000, Loss: -6.09e+03, Acceptance sample: 0.81, LR: 0.00092\n",
      "Step: 2500 / 5000, Loss: -5.89e+03, Acceptance sample: 0.84, LR: 0.00092\n",
      "Step: 2600 / 5000, Loss: -6.17e+03, Acceptance sample: 0.87, LR: 0.00092\n",
      "Step: 2700 / 5000, Loss: -6.83e+03, Acceptance sample: 0.86, LR: 0.00092\n",
      "Step: 2800 / 5000, Loss: -6.40e+03, Acceptance sample: 0.83, LR: 0.00092\n",
      "Step: 2900 / 5000, Loss: -6.98e+03, Acceptance sample: 0.84, LR: 0.00092\n",
      "Step: 3000 / 5000, Loss: -7.22e+03, Acceptance sample: 0.87, LR: 0.00088\n",
      "Step: 3100 / 5000, Loss: -7.09e+03, Acceptance sample: 0.83, LR: 0.00088\n",
      "Step: 3200 / 5000, Loss: -8.16e+03, Acceptance sample: 0.85, LR: 0.00088\n",
      "Step: 3300 / 5000, Loss: -1.09e+04, Acceptance sample: 0.81, LR: 0.00088\n",
      "Step: 3400 / 5000, Loss: -1.35e+04, Acceptance sample: 0.84, LR: 0.00088\n",
      "Step: 3500 / 5000, Loss: -1.37e+04, Acceptance sample: 0.88, LR: 0.00088\n",
      "Step: 3600 / 5000, Loss: -1.43e+04, Acceptance sample: 0.85, LR: 0.00088\n",
      "Step: 3700 / 5000, Loss: -1.52e+04, Acceptance sample: 0.87, LR: 0.00088\n",
      "Step: 3800 / 5000, Loss: -1.65e+04, Acceptance sample: 0.88, LR: 0.00088\n",
      "Step: 3900 / 5000, Loss: -1.79e+04, Acceptance sample: 0.91, LR: 0.00088\n",
      "Step: 4000 / 5000, Loss: -1.74e+04, Acceptance sample: 0.85, LR: 0.00085\n",
      "Step: 4100 / 5000, Loss: -1.84e+04, Acceptance sample: 0.90, LR: 0.00085\n",
      "Step: 4200 / 5000, Loss: -1.94e+04, Acceptance sample: 0.90, LR: 0.00085\n",
      "Step: 4300 / 5000, Loss: -2.00e+04, Acceptance sample: 0.91, LR: 0.00085\n",
      "Step: 4400 / 5000, Loss: -2.01e+04, Acceptance sample: 0.90, LR: 0.00085\n",
      "Step: 4500 / 5000, Loss: -2.02e+04, Acceptance sample: 0.88, LR: 0.00085\n",
      "Step: 4600 / 5000, Loss: -2.15e+04, Acceptance sample: 0.92, LR: 0.00085\n",
      "Step: 4700 / 5000, Loss: -2.04e+04, Acceptance sample: 0.93, LR: 0.00085\n",
      "Step: 4800 / 5000, Loss: -2.18e+04, Acceptance sample: 0.93, LR: 0.00085\n",
      "Step: 4900 / 5000, Loss: -2.11e+04, Acceptance sample: 0.93, LR: 0.00085\n"
     ]
    }
   ],
   "source": [
    "n_steps = 5000\n",
    "n_samples = 200\n",
    "\n",
    "samples = np.random.randn(n_samples, x_dim)\n",
    "\n",
    "sess = tf.Session(config=tf.ConfigProto(device_count = {'GPU': 0}))\n",
    "sess.run(tf.global_variables_initializer())\n",
    "w = sess.run(output, {x: samples})\n",
    "\n",
    "for t in range(n_steps):\n",
    "    _, loss_, samples, px_, lr_ = sess.run([\n",
    "        train_op,\n",
    "        loss,\n",
    "        output[0],\n",
    "        px,\n",
    "        learning_rate,\n",
    "    ], {x: samples})\n",
    "\n",
    "    if t % 100 == 0:\n",
    "        print('Step: %d / %d, Loss: %.2e, Acceptance sample: %.2f, LR: %.5f' % (t, n_steps, loss_, np.mean(px_), lr_))"
   ]
  },
  {
   "cell_type": "markdown",
   "metadata": {},
   "source": [
    "---\n",
    "## Evaluating\n",
    "After training, we generate 200 chains for 2000 steps for evaluation purposes."
   ]
  },
  {
   "cell_type": "code",
   "execution_count": 9,
   "metadata": {},
   "outputs": [],
   "source": [
    "samples = dist.get_samples(n=n_samples)\n",
    "final_samples = []\n",
    "\n",
    "\n",
    "for t in range(2000):\n",
    "    final_samples.append(np.copy(samples))\n",
    "\n",
    "    feed_dict = {\n",
    "        x: samples,\n",
    "    }\n",
    "\n",
    "    samples = sess.run(output[0], feed_dict)"
   ]
  },
  {
   "cell_type": "markdown",
   "metadata": {},
   "source": [
    "We compute the HMC chains with **auto-correlation spectrums** as well."
   ]
  },
  {
   "cell_type": "code",
   "execution_count": 10,
   "metadata": {},
   "outputs": [
    {
     "name": "stdout",
     "output_type": "stream",
     "text": [
      "(2000, 200, 50)\n"
     ]
    }
   ],
   "source": [
    "L2HMC_samples = np.array(final_samples)\n",
    "HMC_samples_1 = get_hmc_samples(x_dim, 0.225, dist.get_energy_function(), sess, steps=2000, samples=samples)\n",
    "HMC_samples_2 = get_hmc_samples(x_dim, 0.250, dist.get_energy_function(), sess, steps=2000, samples=samples)\n",
    "HMC_samples_3 = get_hmc_samples(x_dim, 0.275, dist.get_energy_function(), sess, steps=2000, samples=samples)\n",
    "print(HMC_samples_1.shape)"
   ]
  },
  {
   "cell_type": "code",
   "execution_count": 11,
   "metadata": {},
   "outputs": [],
   "source": [
    "scale = np.sqrt(np.trace(cov))\n",
    "L2HMC = acl_spectrum(L2HMC_samples, scale=scale)\n",
    "HMC1 = acl_spectrum(HMC_samples_1, scale=scale)\n",
    "HMC2 = acl_spectrum(HMC_samples_2, scale=scale)\n",
    "HMC3 = acl_spectrum(HMC_samples_3, scale=scale)"
   ]
  },
  {
   "cell_type": "markdown",
   "metadata": {},
   "source": [
    "---\n",
    "## Auto-correlation plot"
   ]
  },
  {
   "cell_type": "code",
   "execution_count": 12,
   "metadata": {},
   "outputs": [
    {
     "data": {
      "text/plain": [
       "array([1.00478287, 1.00478287, 1.00478287, 1.00478287, 1.00478287])"
      ]
     },
     "execution_count": 12,
     "metadata": {},
     "output_type": "execute_result"
    }
   ],
   "source": [
    "HMC3[:5]"
   ]
  },
  {
   "cell_type": "code",
   "execution_count": 23,
   "metadata": {},
   "outputs": [
    {
     "data": {
      "image/png": "[encoded data removed]",
      "text/plain": [
       "<matplotlib.figure.Figure at 0x7f02d71e8590>"
      ]
     },
     "metadata": {},
     "output_type": "display_data"
    }
   ],
   "source": [
    "fig = plt.figure()\n",
    "xaxis = 10 * np.arange(50)\n",
    "plt.plot(xaxis, L2HMC[:50], label='L2HMC', color=c_l2hmc)\n",
    "plt.plot(xaxis, HMC1[:50], label='HMC $\\epsilon=0.225$', color=c_hmc1)\n",
    "plt.plot(xaxis, HMC2[:50], label='HMC $\\epsilon=0.250$', color=c_hmc2)\n",
    "plt.plot(xaxis, HMC3[:50], label='HMC $\\epsilon=0.275$', color=c_hmc3)\n",
    "plt.ylabel('Auto-correlation')\n",
    "plt.xlabel('Gradient computations')\n",
    "plt.title('Ill-conditioned Gaussian')\n",
    "plt.legend()\n",
    "plt.show()\n",
    "fig.savefig('icg_plot.png', dpi=200)"
   ]
  },
  {
   "cell_type": "markdown",
   "metadata": {},
   "source": [
    "We now compute the **Effective Sample Size** (ESS)."
   ]
  },
  {
   "cell_type": "code",
   "execution_count": 16,
   "metadata": {},
   "outputs": [
    {
     "name": "stdout",
     "output_type": "stream",
     "text": [
      "ESS L2HMC: 1.80e-01 -- ESS HMC: 2.49e-04 -- Ratio: 722\n"
     ]
    }
   ],
   "source": [
    "print('ESS L2HMC: %.2e -- ESS HMC: %.2e -- Ratio: %d' % (ESS(L2HMC), ESS(HMC2), ESS(L2HMC) / ESS(HMC2)))"
   ]
  },
  {
   "cell_type": "code",
   "execution_count": null,
   "metadata": {},
   "outputs": [],
   "source": []
  }
 ],
 "metadata": {
  "kernelspec": {
   "display_name": "Python 2",
   "language": "python",
   "name": "python2"
  },
  "language_info": {
   "codemirror_mode": {
    "name": "ipython",
    "version": 2
   },
   "file_extension": ".py",
   "mimetype": "text/x-python",
   "name": "python",
   "nbconvert_exporter": "python",
   "pygments_lexer": "ipython2",
   "version": "2.7.12"
  }
 },
 "nbformat": 4,
 "nbformat_minor": 2
}
