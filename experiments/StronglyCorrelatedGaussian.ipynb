{
 "cells": [
  {
   "cell_type": "code",
   "execution_count": 1,
   "metadata": {},
   "outputs": [],
   "source": [
    "%matplotlib inline\n",
    "%reload_ext autoreload\n",
    "%autoreload 2\n",
    "\n",
    "import sys  \n",
    "sys.path.append(\"../l2hmc\")\n",
    "sys.path.append(\"../l2hmc/utils\")\n",
    "\n",
    "import tensorflow as tf\n",
    "import numpy as np\n",
    "import matplotlib\n",
    "import matplotlib.pyplot as plt\n",
    "from utils.distributions import random_tilted_gaussian, Gaussian, GMM, RoughWell\n",
    "\n",
    "import seaborn as sns\n",
    "sns.set_palette(\"muted\")"
   ]
  },
  {
   "cell_type": "code",
   "execution_count": 2,
   "metadata": {},
   "outputs": [],
   "source": [
    "from utils.func_utils import accept, jacobian, autocovariance, get_log_likelihood, \\\n",
    "    get_data, binarize, normal_kl, acl_spectrum, ESS\n",
    "from utils.distributions import Gaussian, GMM, GaussianFunnel, gen_ring\n",
    "from utils.layers import Linear, Sequential, Zip, Parallel, ScaleTanh\n",
    "from utils.dynamics import Dynamics\n",
    "from utils.sampler import propose\n",
    "from utils.notebook_utils import get_hmc_samples, plot_gaussian_contours"
   ]
  },
  {
   "cell_type": "code",
   "execution_count": 3,
   "metadata": {},
   "outputs": [],
   "source": [
    "# Color definition for plots\n",
    "c_l2hmc, c_hmc1, c_hmc2, c_hmc3 = 'blue', 'orange', 'green', 'red'\n",
    "c_true, c_contour = 'purple', '0.75'"
   ]
  },
  {
   "cell_type": "markdown",
   "metadata": {},
   "source": [
    "---\n",
    "# Network architecture"
   ]
  },
  {
   "cell_type": "code",
   "execution_count": 4,
   "metadata": {},
   "outputs": [],
   "source": [
    "def network(x_dim, scope, factor):\n",
    "    with tf.variable_scope(scope):\n",
    "        net = Sequential([\n",
    "            Zip([\n",
    "                Linear(x_dim, 10, scope='embed_1', factor=1.0 / 3),\n",
    "                Linear(x_dim, 10, scope='embed_2', factor=factor * 1.0 / 3),\n",
    "                Linear(2, 10, scope='embed_3', factor=1.0 / 3),\n",
    "                lambda _: 0.,\n",
    "            ]),\n",
    "            sum,\n",
    "            tf.nn.relu,\n",
    "            Linear(10, 10, scope='linear_1'),\n",
    "            tf.nn.relu,\n",
    "            Parallel([\n",
    "                Sequential([\n",
    "                    Linear(10, x_dim, scope='linear_s', factor=0.001), \n",
    "                    ScaleTanh(x_dim, scope='scale_s')\n",
    "                ]),\n",
    "                Linear(10, x_dim, scope='linear_t', factor=0.001),\n",
    "                Sequential([\n",
    "                    Linear(10, x_dim, scope='linear_f', factor=0.001),\n",
    "                    ScaleTanh(x_dim, scope='scale_f'),\n",
    "                ])\n",
    "            ])  \n",
    "        ])\n",
    "        \n",
    "    return net"
   ]
  },
  {
   "cell_type": "markdown",
   "metadata": {},
   "source": [
    "\n",
    "---\n",
    "# 2D Strongly Correlated Gaussian (SCG)\n",
    "\n",
    "## Defining the distribution\n",
    "\n",
    "We define our energy function. It is a Gaussian distribution with zero mean. The covariance is a $\\pi/4$ rotation of the eigenvalues $[100, 10^{-1}]$. We set up our dynamics which take as input our energy function, the number of time step of our operator, the (learnable) step-size and our architecture."
   ]
  },
  {
   "cell_type": "code",
   "execution_count": 5,
   "metadata": {},
   "outputs": [
    {
     "name": "stdout",
     "output_type": "stream",
     "text": [
      "9.999999999999705 float64\n",
      "(array([0., 0.]), array([[ 50.05, -49.95],\n",
      "       [-49.95,  50.05]]))\n",
      "9.999999999999705 float64\n"
     ]
    }
   ],
   "source": [
    "x_dim = 2\n",
    "mu = np.zeros(2,)\n",
    "cov = np.array([[50.05, -49.95], [-49.95, 50.05]])\n",
    "dist = Gaussian(mu, cov)\n",
    "# mu, cov = random_tilted_gaussian(x_dim)\n",
    "print(mu, cov)\n",
    "dist = Gaussian(mu, cov)"
   ]
  },
  {
   "cell_type": "markdown",
   "metadata": {},
   "source": [
    "We can directly sample from this distribution and plot it for sanity-check. Here, we sample 400 points from $\\Omega$."
   ]
  },
  {
   "cell_type": "code",
   "execution_count": 55,
   "metadata": {},
   "outputs": [
    {
     "data": {
      "image/png": "[encoded data removed]",
      "text/plain": [
       "<matplotlib.figure.Figure at 0x7f8630344dd0>"
      ]
     },
     "metadata": {},
     "output_type": "display_data"
    }
   ],
   "source": [
    "S = dist.get_samples(500)\n",
    "fig = plt.figure()\n",
    "plt.title('Strongly Correlated Gaussian (SCG) Exact Sampling')\n",
    "plt.plot(S[:, 0], S[:, 1], 'o', alpha=0.6, color=c_true)\n",
    "plt.tight_layout()\n",
    "# plt.axis('equal')\n",
    "plt.show()\n",
    "fig.savefig('scg_exact.png', dpi=200)"
   ]
  },
  {
   "cell_type": "code",
   "execution_count": 45,
   "metadata": {},
   "outputs": [],
   "source": [
    "# x_lim, y_lim = np.max(S[:, 0]), np.max(S[:, 1])\n",
    "# x_lims, y_lims = [-x_lim, x_lim], [-y_lim, y_lim]\n",
    "# plot_gaussian_contours([mu], [cov], x_lims=x_lims, y_lims=y_lims, spacing=3)\n",
    "# plt.axis('equal')\n",
    "# plt.show()"
   ]
  },
  {
   "cell_type": "markdown",
   "metadata": {},
   "source": [
    "---\n",
    "## Training\n",
    "\n",
    "\n",
    "We set up the loss on both $p(\\xi)$ (here `x`) and $q(\\xi)$ (here `z`). We then train with Adam with a learning rate of $10^{-3}$."
   ]
  },
  {
   "cell_type": "code",
   "execution_count": 8,
   "metadata": {},
   "outputs": [],
   "source": [
    "# Leap frog integrator for Hamiltonian dynamics\n",
    "dynamics = Dynamics(x_dim, dist.get_energy_function(), T=10, eps=0.1, net_factory=network)\n",
    "\n",
    "# Losses on p(xi) and q(xi), respectively\n",
    "x = tf.placeholder(tf.float32, shape=(None, x_dim))\n",
    "z = tf.random_normal(tf.shape(x))\n",
    "Lx, _, px, output = propose(x, dynamics, do_mh_step=True)\n",
    "Lz, _, pz, _ = propose(z, dynamics, do_mh_step=False)\n",
    "\n",
    "# Squared jumped distance\n",
    "v1 = (tf.reduce_sum(tf.square(x - Lx), axis=1) * px) + 1e-4\n",
    "v2 = (tf.reduce_sum(tf.square(z - Lz), axis=1) * pz) + 1e-4\n",
    "scale = 0.1\n",
    "\n",
    "# Update loss\n",
    "loss = 0.\n",
    "loss += scale * (tf.reduce_mean(1.0 / v1) + tf.reduce_mean(1.0 / v2))\n",
    "loss += (- tf.reduce_mean(v1) - tf.reduce_mean(v2)) / scale"
   ]
  },
  {
   "cell_type": "code",
   "execution_count": 9,
   "metadata": {},
   "outputs": [],
   "source": [
    "# Training parameters\n",
    "global_step = tf.Variable(0., name='global_step', trainable=False)\n",
    "learning_rate = tf.train.exponential_decay(1e-3, global_step, 1000, 0.96, staircase=True)\n",
    "optimizer = tf.train.AdamOptimizer(learning_rate=learning_rate)\n",
    "train_op = optimizer.minimize(loss, global_step=global_step)"
   ]
  },
  {
   "cell_type": "markdown",
   "metadata": {},
   "source": [
    "Training loop described in Algorithm 1 in the paper."
   ]
  },
  {
   "cell_type": "code",
   "execution_count": 10,
   "metadata": {},
   "outputs": [
    {
     "name": "stdout",
     "output_type": "stream",
     "text": [
      "Step: 0 / 5000, Loss: -3.79e+01, Acceptance sample: 0.82, LR: 0.00100\n",
      "Step: 100 / 5000, Loss: -1.93e+02, Acceptance sample: 0.72, LR: 0.00100\n",
      "Step: 200 / 5000, Loss: -3.66e+02, Acceptance sample: 0.57, LR: 0.00100\n",
      "Step: 300 / 5000, Loss: -5.74e+02, Acceptance sample: 0.51, LR: 0.00100\n",
      "Step: 400 / 5000, Loss: -4.99e+03, Acceptance sample: 0.28, LR: 0.00100\n",
      "Step: 500 / 5000, Loss: -6.56e+03, Acceptance sample: 0.36, LR: 0.00100\n",
      "Step: 600 / 5000, Loss: -6.87e+03, Acceptance sample: 0.33, LR: 0.00100\n",
      "Step: 700 / 5000, Loss: -7.52e+03, Acceptance sample: 0.40, LR: 0.00100\n",
      "Step: 800 / 5000, Loss: -7.95e+03, Acceptance sample: 0.43, LR: 0.00100\n",
      "Step: 900 / 5000, Loss: -6.97e+03, Acceptance sample: 0.40, LR: 0.00100\n",
      "Step: 1000 / 5000, Loss: -8.68e+03, Acceptance sample: 0.47, LR: 0.00096\n",
      "Step: 1100 / 5000, Loss: -8.29e+03, Acceptance sample: 0.40, LR: 0.00096\n",
      "Step: 1200 / 5000, Loss: -9.07e+03, Acceptance sample: 0.41, LR: 0.00096\n",
      "Step: 1300 / 5000, Loss: -7.55e+03, Acceptance sample: 0.41, LR: 0.00096\n",
      "Step: 1400 / 5000, Loss: -9.24e+03, Acceptance sample: 0.46, LR: 0.00096\n",
      "Step: 1500 / 5000, Loss: -9.62e+03, Acceptance sample: 0.43, LR: 0.00096\n",
      "Step: 1600 / 5000, Loss: -8.71e+03, Acceptance sample: 0.38, LR: 0.00096\n",
      "Step: 1700 / 5000, Loss: -9.79e+03, Acceptance sample: 0.48, LR: 0.00096\n",
      "Step: 1800 / 5000, Loss: -9.52e+03, Acceptance sample: 0.47, LR: 0.00096\n",
      "Step: 1900 / 5000, Loss: -8.52e+03, Acceptance sample: 0.42, LR: 0.00096\n",
      "Step: 2000 / 5000, Loss: -9.42e+03, Acceptance sample: 0.37, LR: 0.00092\n",
      "Step: 2100 / 5000, Loss: -1.01e+04, Acceptance sample: 0.45, LR: 0.00092\n",
      "Step: 2200 / 5000, Loss: -9.57e+03, Acceptance sample: 0.42, LR: 0.00092\n",
      "Step: 2300 / 5000, Loss: -9.03e+03, Acceptance sample: 0.40, LR: 0.00092\n",
      "Step: 2400 / 5000, Loss: -1.01e+04, Acceptance sample: 0.48, LR: 0.00092\n",
      "Step: 2500 / 5000, Loss: -1.01e+04, Acceptance sample: 0.47, LR: 0.00092\n",
      "Step: 2600 / 5000, Loss: -1.11e+04, Acceptance sample: 0.44, LR: 0.00092\n",
      "Step: 2700 / 5000, Loss: -9.05e+03, Acceptance sample: 0.42, LR: 0.00092\n",
      "Step: 2800 / 5000, Loss: -9.75e+03, Acceptance sample: 0.41, LR: 0.00092\n",
      "Step: 2900 / 5000, Loss: -9.04e+03, Acceptance sample: 0.46, LR: 0.00092\n",
      "Step: 3000 / 5000, Loss: -9.75e+03, Acceptance sample: 0.41, LR: 0.00088\n",
      "Step: 3100 / 5000, Loss: -8.38e+03, Acceptance sample: 0.46, LR: 0.00088\n",
      "Step: 3200 / 5000, Loss: -1.01e+04, Acceptance sample: 0.43, LR: 0.00088\n",
      "Step: 3300 / 5000, Loss: -8.46e+03, Acceptance sample: 0.44, LR: 0.00088\n",
      "Step: 3400 / 5000, Loss: -1.06e+04, Acceptance sample: 0.50, LR: 0.00088\n",
      "Step: 3500 / 5000, Loss: -8.38e+03, Acceptance sample: 0.41, LR: 0.00088\n",
      "Step: 3600 / 5000, Loss: -1.03e+04, Acceptance sample: 0.48, LR: 0.00088\n",
      "Step: 3700 / 5000, Loss: -1.04e+04, Acceptance sample: 0.44, LR: 0.00088\n",
      "Step: 3800 / 5000, Loss: -1.02e+04, Acceptance sample: 0.46, LR: 0.00088\n",
      "Step: 3900 / 5000, Loss: -8.71e+03, Acceptance sample: 0.45, LR: 0.00088\n",
      "Step: 4000 / 5000, Loss: -9.05e+03, Acceptance sample: 0.39, LR: 0.00085\n",
      "Step: 4100 / 5000, Loss: -9.93e+03, Acceptance sample: 0.46, LR: 0.00085\n",
      "Step: 4200 / 5000, Loss: -1.12e+04, Acceptance sample: 0.43, LR: 0.00085\n",
      "Step: 4300 / 5000, Loss: -9.91e+03, Acceptance sample: 0.45, LR: 0.00085\n",
      "Step: 4400 / 5000, Loss: -1.13e+04, Acceptance sample: 0.44, LR: 0.00085\n",
      "Step: 4500 / 5000, Loss: -1.12e+04, Acceptance sample: 0.45, LR: 0.00085\n",
      "Step: 4600 / 5000, Loss: -9.95e+03, Acceptance sample: 0.42, LR: 0.00085\n",
      "Step: 4700 / 5000, Loss: -1.12e+04, Acceptance sample: 0.38, LR: 0.00085\n",
      "Step: 4800 / 5000, Loss: -1.04e+04, Acceptance sample: 0.41, LR: 0.00085\n",
      "Step: 4900 / 5000, Loss: -9.99e+03, Acceptance sample: 0.46, LR: 0.00085\n"
     ]
    }
   ],
   "source": [
    "n_steps = 5000\n",
    "n_samples = 200\n",
    "\n",
    "samples = np.random.randn(n_samples, x_dim)\n",
    "\n",
    "sess = tf.Session()\n",
    "sess.run(tf.global_variables_initializer())\n",
    "\n",
    "for t in range(n_steps):\n",
    "    _, loss_, samples, px_, lr_ = sess.run([\n",
    "        train_op,\n",
    "        loss,\n",
    "        output[0],\n",
    "        px,\n",
    "        learning_rate,\n",
    "    ], {x: samples})\n",
    "\n",
    "    if t % 100 == 0:\n",
    "        print('Step: %d / %d, Loss: %.2e, Acceptance sample: %.2f, LR: %.5f' % (t, n_steps, loss_, np.mean(px_), lr_))"
   ]
  },
  {
   "cell_type": "markdown",
   "metadata": {},
   "source": [
    "---\n",
    "## Evaluating\n",
    "After training, we generate 200 chains for 2000 steps for evaluation purposes."
   ]
  },
  {
   "cell_type": "code",
   "execution_count": 11,
   "metadata": {},
   "outputs": [],
   "source": [
    "samples = dist.get_samples(n=n_samples)\n",
    "final_samples = []\n",
    "\n",
    "for t in range(2000):\n",
    "    final_samples.append(np.copy(samples))\n",
    "\n",
    "    feed_dict = {\n",
    "        x: samples,\n",
    "    }\n",
    "\n",
    "    samples = sess.run(output[0], feed_dict)"
   ]
  },
  {
   "cell_type": "markdown",
   "metadata": {},
   "source": [
    "We compute the HMC chains with **auto-correlation spectrums** as well."
   ]
  },
  {
   "cell_type": "code",
   "execution_count": 13,
   "metadata": {},
   "outputs": [],
   "source": [
    "L2HMC_samples = np.array(final_samples)\n",
    "HMC_samples_1 = get_hmc_samples(2, 0.1, dist.get_energy_function(), sess, steps=2000, samples=samples)\n",
    "HMC_samples_2 = get_hmc_samples(2, 0.15, dist.get_energy_function(), sess, steps=2000, samples=samples)\n",
    "HMC_samples_3 = get_hmc_samples(2, 0.2, dist.get_energy_function(), sess, steps=2000, samples=samples)"
   ]
  },
  {
   "cell_type": "code",
   "execution_count": 14,
   "metadata": {},
   "outputs": [],
   "source": [
    "scale = np.sqrt(np.trace(cov))\n",
    "L2HMC = acl_spectrum(L2HMC_samples, scale=scale)\n",
    "HMC1 = acl_spectrum(HMC_samples_1, scale=scale)\n",
    "HMC2 = acl_spectrum(HMC_samples_2, scale=scale)\n",
    "HMC3 = acl_spectrum(HMC_samples_3, scale=scale)"
   ]
  },
  {
   "cell_type": "markdown",
   "metadata": {},
   "source": [
    "---\n",
    "## Auto-correlation plot"
   ]
  },
  {
   "cell_type": "code",
   "execution_count": 51,
   "metadata": {},
   "outputs": [
    {
     "data": {
      "image/png": "[encoded data removed]",
      "text/plain": [
       "<matplotlib.figure.Figure at 0x7f86319737d0>"
      ]
     },
     "metadata": {},
     "output_type": "display_data"
    }
   ],
   "source": [
    "xaxis = 10 * np.arange(300)\n",
    "fig = plt.figure()\n",
    "plt.plot(xaxis, L2HMC[:300], label='L2HMC', color=c_l2hmc)\n",
    "plt.plot(xaxis, HMC1[:300], label='HMC $\\epsilon=0.1$', color=c_hmc1)\n",
    "plt.plot(xaxis, HMC2[:300], label='HMC $\\epsilon=0.15$', color=c_hmc2)\n",
    "plt.plot(xaxis, HMC3[:300], label='HMC $\\epsilon=0.2$', color=c_hmc3)\n",
    "plt.ylabel('Auto-correlation')\n",
    "plt.xlabel('Gradient computations')\n",
    "plt.legend()\n",
    "plt.title('2D Strongly Correlated Gaussian')\n",
    "plt.tight_layout()\n",
    "plt.show()\n",
    "fig.savefig('scg_plot.png', dpi=200)"
   ]
  },
  {
   "cell_type": "markdown",
   "metadata": {},
   "source": [
    "We now compute the **Effective Sample Size** (ESS)."
   ]
  },
  {
   "cell_type": "code",
   "execution_count": 16,
   "metadata": {},
   "outputs": [
    {
     "name": "stdout",
     "output_type": "stream",
     "text": [
      "ESS L2HMC: 3.29e-01 -- ESS HMC: 6.09e-03 -- Ratio: 53\n"
     ]
    }
   ],
   "source": [
    "print('ESS L2HMC: %.2e -- ESS HMC: %.2e -- Ratio: %d' % (ESS(L2HMC), ESS(HMC2), ESS(L2HMC) / ESS(HMC2)))"
   ]
  },
  {
   "cell_type": "markdown",
   "metadata": {},
   "source": [
    "Finally, we visualize a single chain of L2HMC for 50 time steps to assess exploration."
   ]
  },
  {
   "cell_type": "code",
   "execution_count": 53,
   "metadata": {},
   "outputs": [
    {
     "data": {
      "image/png": "[encoded data removed]",
      "text/plain": [
       "<matplotlib.figure.Figure at 0x7f8630d9bb50>"
      ]
     },
     "metadata": {},
     "output_type": "display_data"
    }
   ],
   "source": [
    "# plt.plot(S[:, 0], S[:, 1], 'o', alpha=0.6, color=c_true)\n",
    "fig = plt.figure()\n",
    "plt.plot(L2HMC_samples[:50, 1, 0], L2HMC_samples[:50, 1, 1], color=c_l2hmc, marker='o', alpha=0.6)\n",
    "plt.title('Strongly Correlated Gaussian Sampling via L2HMC')\n",
    "plt.tight_layout()\n",
    "plt.show()\n",
    "fig.savefig('scg_explore.png', dpi=200)"
   ]
  },
  {
   "cell_type": "code",
   "execution_count": null,
   "metadata": {},
   "outputs": [],
   "source": []
  }
 ],
 "metadata": {
  "kernelspec": {
   "display_name": "Python 2",
   "language": "python",
   "name": "python2"
  },
  "language_info": {
   "codemirror_mode": {
    "name": "ipython",
    "version": 2
   },
   "file_extension": ".py",
   "mimetype": "text/x-python",
   "name": "python",
   "nbconvert_exporter": "python",
   "pygments_lexer": "ipython2",
   "version": "2.7.12"
  }
 },
 "nbformat": 4,
 "nbformat_minor": 2
}
